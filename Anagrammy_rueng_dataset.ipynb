{
 "cells": [
  {
   "cell_type": "code",
   "execution_count": 1,
   "id": "34c0e7ea",
   "metadata": {},
   "outputs": [],
   "source": [
    "import pandas as pd"
   ]
  },
  {
   "cell_type": "code",
   "execution_count": 2,
   "id": "753163da",
   "metadata": {
    "scrolled": false
   },
   "outputs": [
    {
     "name": "stdout",
     "output_type": "stream",
     "text": [
      "Введите слово, анаграмма которого вам необходима\n",
      "парадонтоз\n",
      "Ваше слово - парадонтоз. Ищем!\n"
     ]
    }
   ],
   "source": [
    "print('Введите слово, анаграмма которого вам необходима') #пользовательский интерфейс\n",
    "myword = input()\n",
    "print('Ваше слово - ' + myword + '. Ищем!')"
   ]
  },
  {
   "cell_type": "code",
   "execution_count": 3,
   "id": "ae96a4b1",
   "metadata": {},
   "outputs": [],
   "source": [
    "listmyword = list(myword) #делаем список из введенного слова\n",
    "# listmyword"
   ]
  },
  {
   "cell_type": "code",
   "execution_count": 4,
   "id": "b8cf47ec",
   "metadata": {},
   "outputs": [],
   "source": [
    "lenth = len(myword) #узнаем его длину\n",
    "# lenth"
   ]
  },
  {
   "cell_type": "code",
   "execution_count": 5,
   "id": "40146320",
   "metadata": {},
   "outputs": [],
   "source": [
    "df = pd.read_csv('ru_eng_dataset.csv')                          #русский словарь\n",
    "# df"
   ]
  },
  {
   "cell_type": "code",
   "execution_count": 6,
   "id": "17226d28",
   "metadata": {},
   "outputs": [],
   "source": [
    "# df = pd.read_csv('unigram.csv') #делаем DF из словаря              это словарь англ.слов(он не очень качественный)\n",
    "# df.head(100)"
   ]
  },
  {
   "cell_type": "code",
   "execution_count": 7,
   "id": "b9868ca0",
   "metadata": {},
   "outputs": [],
   "source": [
    "df['CopyVocabulary'] = df['word'] #дублируем словарь для цикла поиска"
   ]
  },
  {
   "cell_type": "code",
   "execution_count": 8,
   "id": "7ea58193",
   "metadata": {},
   "outputs": [],
   "source": [
    "Sortlenthvocabulary = [] #создаем список для будущего отбора анаграммы\n",
    "for word in df['CopyVocabulary']: #цикл проходит по строкам столбца 'CopyVocabulary' DF\n",
    "    if lenth >= len(str(word)) and len(str(word)) > 2: #условие отбора слов необходимой длины (убираем 2 буквы потому что в англ.датасете плохие слова на 2 буквы)\n",
    "        Sortlenthvocabulary.append(word) \n",
    "# Sortlenthvocabulary "
   ]
  },
  {
   "cell_type": "code",
   "execution_count": 9,
   "id": "92ebc07c",
   "metadata": {},
   "outputs": [],
   "source": [
    "yesword = []"
   ]
  },
  {
   "cell_type": "code",
   "execution_count": 10,
   "id": "e1b082b7",
   "metadata": {},
   "outputs": [],
   "source": [
    "for word in Sortlenthvocabulary:        # цикл просматривает слова по очереди в списке который я создала\n",
    "    deleted_word = list(myword)         #обновляем переменную в каждом новом слове\n",
    "    n = 0\n",
    "    for wordletter in str(word):        # цикл проверки буквы в слове\n",
    "        if wordletter in deleted_word:  # условие нахождения в слове из списка букв из заданного слова\n",
    "            n += 1                      # счетчик кол-ва букв\n",
    "            deleted_word.remove(wordletter) # локально убираем букву чтобы сохранить кол-во одинаковых букв\n",
    "    if n == len(str(word)):             #сверка кол-ва букв\n",
    "        yesword.append(word)            #добавляем в список"
   ]
  },
  {
   "cell_type": "code",
   "execution_count": 11,
   "id": "a027706f",
   "metadata": {},
   "outputs": [],
   "source": [
    "readyword = []                                       # цикл сортирует список по длине от малого к большему\n",
    "for i in sorted(yesword, key = lambda a: len(a)):\n",
    "    readyword.append(i)"
   ]
  },
  {
   "cell_type": "code",
   "execution_count": 12,
   "id": "d2579e58",
   "metadata": {},
   "outputs": [],
   "source": [
    "# print('Анаграммы к слову ' + myword + ':')                                выводит списком в порядке убывания\n",
    "readyword.reverse()\n",
    "# readyword"
   ]
  },
  {
   "cell_type": "code",
   "execution_count": 13,
   "id": "56358188",
   "metadata": {},
   "outputs": [
    {
     "name": "stdout",
     "output_type": "stream",
     "text": [
      "Анаграммы к слову парадонтоз: торнадо, ротонда, ропот, таран, рондо, порто, проза, зарод, отара, радон, тропа, пороз, позор, нарта, донор, отпор, топор, запор, задор, аорта, народ, апорт, тора, троп, рант, нота, тара, пара, рапа, дата, арат, арап, адат, рота, порт, натр, нато, род, одр, рот, тор, пот, топ, орт, опт, дон, дно, рад, дар.\n"
     ]
    }
   ],
   "source": [
    "print('Анаграммы к слову ' + myword + ': ' + ', '.join(readyword) + '.')   # выводит красивой строчечкой"
   ]
  },
  {
   "cell_type": "code",
   "execution_count": null,
   "id": "5bc5088b",
   "metadata": {},
   "outputs": [],
   "source": []
  },
  {
   "cell_type": "code",
   "execution_count": null,
   "id": "c0804604",
   "metadata": {},
   "outputs": [],
   "source": []
  }
 ],
 "metadata": {
  "kernelspec": {
   "display_name": "Python 3 (ipykernel)",
   "language": "python",
   "name": "python3"
  },
  "language_info": {
   "codemirror_mode": {
    "name": "ipython",
    "version": 3
   },
   "file_extension": ".py",
   "mimetype": "text/x-python",
   "name": "python",
   "nbconvert_exporter": "python",
   "pygments_lexer": "ipython3",
   "version": "3.9.7"
  }
 },
 "nbformat": 4,
 "nbformat_minor": 5
}
